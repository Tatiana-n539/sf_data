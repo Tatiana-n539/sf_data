{
 "cells": [
  {
   "cell_type": "code",
   "execution_count": 7,
   "id": "17bacd2a",
   "metadata": {},
   "outputs": [],
   "source": [
    "import game_v2\n",
    "   "
   ]
  },
  {
   "cell_type": "code",
   "execution_count": 8,
   "id": "6c50fc7d",
   "metadata": {},
   "outputs": [
    {
     "name": "stdout",
     "output_type": "stream",
     "text": [
      "Ваш алгоритм угадывает число в среднем за: 101 попыток\n"
     ]
    },
    {
     "data": {
      "text/plain": [
       "101"
      ]
     },
     "execution_count": 8,
     "metadata": {},
     "output_type": "execute_result"
    }
   ],
   "source": [
    "game_v2.score_game(game_v2.random_predict)   "
   ]
  },
  {
   "cell_type": "markdown",
   "id": "76c5250c",
   "metadata": {},
   "source": [
    "# Игра угадай число"
   ]
  },
  {
   "cell_type": "code",
   "execution_count": null,
   "id": "91295b12",
   "metadata": {},
   "outputs": [],
   "source": [
    "from game_v2 import score_game\n",
    "from game_v2 import random_predict   \n",
    "#from game_v2 import score_game, random_predict"
   ]
  },
  {
   "cell_type": "markdown",
   "id": "9fccaf2c",
   "metadata": {},
   "source": [
    "## Угадываем рандомно "
   ]
  },
  {
   "cell_type": "code",
   "execution_count": 10,
   "id": "b3923b74",
   "metadata": {},
   "outputs": [
    {
     "name": "stdout",
     "output_type": "stream",
     "text": [
      "Ваш алгоритм угадывает число в среднем за: 101 попыток\n"
     ]
    },
    {
     "data": {
      "text/plain": [
       "101"
      ]
     },
     "execution_count": 10,
     "metadata": {},
     "output_type": "execute_result"
    }
   ],
   "source": [
    "score_game(random_predict) #вызов функции"
   ]
  },
  {
   "cell_type": "code",
   "execution_count": 11,
   "id": "5f4df1e1",
   "metadata": {},
   "outputs": [],
   "source": [
    "n = 10\n",
    "z = n\n",
    "n = 5"
   ]
  }
 ],
 "metadata": {
  "kernelspec": {
   "display_name": "Python 3",
   "language": "python",
   "name": "python3"
  },
  "language_info": {
   "codemirror_mode": {
    "name": "ipython",
    "version": 3
   },
   "file_extension": ".py",
   "mimetype": "text/x-python",
   "name": "python",
   "nbconvert_exporter": "python",
   "pygments_lexer": "ipython3",
   "version": "3.13.5"
  }
 },
 "nbformat": 4,
 "nbformat_minor": 5
}
